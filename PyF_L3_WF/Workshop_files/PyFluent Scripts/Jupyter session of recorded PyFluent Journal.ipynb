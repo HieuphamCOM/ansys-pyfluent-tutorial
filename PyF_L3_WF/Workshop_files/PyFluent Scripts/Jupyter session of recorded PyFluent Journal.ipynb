{
 "cells": [
  {
   "cell_type": "markdown",
   "id": "947cf180",
   "metadata": {},
   "source": [
    "### Importing packages"
   ]
  },
  {
   "cell_type": "code",
   "execution_count": null,
   "id": "703ff879",
   "metadata": {},
   "outputs": [],
   "source": [
    "import ansys.fluent.core as pyfluent\n",
    "meshing_session = pyfluent.launch_fluent(precision=\"double\", processor_count=2, mode=\"meshing\", show_gui=True)\n",
    "workflow = meshing_session.workflow\n",
    "meshing = meshing_session.meshing"
   ]
  },
  {
   "cell_type": "markdown",
   "id": "15b21820",
   "metadata": {},
   "source": [
    "### Initializing workflow for meshing"
   ]
  },
  {
   "cell_type": "code",
   "execution_count": null,
   "id": "8f50bd5f",
   "metadata": {},
   "outputs": [],
   "source": [
    "workflow.InitializeWorkflow(WorkflowType=r'Watertight Geometry')\n",
    "meshing.GlobalSettings.LengthUnit.set_state(r'mm')\n",
    "meshing.GlobalSettings.AreaUnit.set_state(r'mm^2')\n",
    "meshing.GlobalSettings.VolumeUnit.set_state(r'mm^3')"
   ]
  },
  {
   "cell_type": "markdown",
   "id": "08f3dd8a",
   "metadata": {},
   "source": [
    "### Import geometry\n",
    "\n",
    "Replace file_location with the actual address of the Static Mixer geometry file.\n",
    "###### Eg: workflow.TaskObject['Import Geometry'].Arguments.set_state({r'FileName': r'D:/PyFluent/Static Mixer geometry.dsco',})\n"
   ]
  },
  {
   "cell_type": "code",
   "execution_count": null,
   "id": "77d6ce2a",
   "metadata": {},
   "outputs": [],
   "source": [
    "workflow.TaskObject['Import Geometry'].Arguments.set_state({r'FileName': r'file_location',})\n",
    "workflow.TaskObject['Import Geometry'].Execute()"
   ]
  },
  {
   "cell_type": "markdown",
   "id": "a90267fd",
   "metadata": {},
   "source": [
    "### Add local sizing"
   ]
  },
  {
   "cell_type": "code",
   "execution_count": null,
   "id": "a5253943",
   "metadata": {},
   "outputs": [],
   "source": [
    "workflow.TaskObject['Add Local Sizing'].AddChildAndUpdate()"
   ]
  },
  {
   "cell_type": "markdown",
   "id": "a0618183",
   "metadata": {},
   "source": [
    "### Generate the Surface Mesh"
   ]
  },
  {
   "cell_type": "code",
   "execution_count": null,
   "id": "2775042d",
   "metadata": {},
   "outputs": [],
   "source": [
    "workflow.TaskObject['Generate the Surface Mesh'].Execute()"
   ]
  },
  {
   "cell_type": "markdown",
   "id": "4a0c53ec",
   "metadata": {},
   "source": [
    "### Describe geometry"
   ]
  },
  {
   "cell_type": "code",
   "execution_count": null,
   "id": "ac0f40cf",
   "metadata": {},
   "outputs": [],
   "source": [
    "workflow.TaskObject['Describe Geometry'].UpdateChildTasks(SetupTypeChanged=False)\n",
    "workflow.TaskObject['Describe Geometry'].Arguments.set_state({r'SetupType': r'The geometry consists of only fluid regions with no voids',})\n",
    "workflow.TaskObject['Describe Geometry'].UpdateChildTasks(SetupTypeChanged=True)\n",
    "workflow.TaskObject['Describe Geometry'].Execute()"
   ]
  },
  {
   "cell_type": "markdown",
   "id": "93ec33fc",
   "metadata": {},
   "source": [
    "### Updating boundaries"
   ]
  },
  {
   "cell_type": "code",
   "execution_count": null,
   "id": "ad6d7275",
   "metadata": {},
   "outputs": [],
   "source": [
    "workflow.TaskObject['Update Boundaries'].Execute()"
   ]
  },
  {
   "cell_type": "markdown",
   "id": "b03d6c23",
   "metadata": {},
   "source": [
    "### Updating regions"
   ]
  },
  {
   "cell_type": "code",
   "execution_count": null,
   "id": "02b9b0c1",
   "metadata": {},
   "outputs": [],
   "source": [
    "workflow.TaskObject['Update Regions'].Execute()"
   ]
  },
  {
   "cell_type": "markdown",
   "id": "efc5fa6d",
   "metadata": {},
   "source": [
    "### Add boundary layers"
   ]
  },
  {
   "cell_type": "code",
   "execution_count": null,
   "id": "9e5ace1f",
   "metadata": {},
   "outputs": [],
   "source": [
    "workflow.TaskObject['Add Boundary Layers'].Arguments.set_state({r'LocalPrismPreferences': {r'Continuous': r'Stair Step',},})\n",
    "workflow.TaskObject['Add Boundary Layers'].AddChildAndUpdate()"
   ]
  },
  {
   "cell_type": "markdown",
   "id": "9af01942",
   "metadata": {},
   "source": [
    "### Generate the volume Mesh"
   ]
  },
  {
   "cell_type": "code",
   "execution_count": null,
   "id": "33041579",
   "metadata": {},
   "outputs": [],
   "source": [
    "workflow.TaskObject['Generate the Volume Mesh'].Execute()"
   ]
  },
  {
   "cell_type": "markdown",
   "id": "3e968ebf",
   "metadata": {},
   "source": [
    "### Switch to solution"
   ]
  },
  {
   "cell_type": "code",
   "execution_count": null,
   "id": "07ae87fe",
   "metadata": {},
   "outputs": [],
   "source": [
    "solver = meshing_session.switch_to_solver()"
   ]
  },
  {
   "cell_type": "markdown",
   "id": "ae387ffb",
   "metadata": {},
   "source": [
    "### Enabling energy"
   ]
  },
  {
   "cell_type": "code",
   "execution_count": null,
   "id": "75baf02a",
   "metadata": {},
   "outputs": [],
   "source": [
    "solver.setup.models.energy = {\"enabled\" : True}"
   ]
  },
  {
   "cell_type": "markdown",
   "id": "e7b2353e",
   "metadata": {},
   "source": [
    "### Copying Water_liquid to materials panel"
   ]
  },
  {
   "cell_type": "code",
   "execution_count": null,
   "id": "a167e5e0",
   "metadata": {},
   "outputs": [],
   "source": [
    "solver.execute_tui(r'''/define/materials/copy fluid water-liquid ''')"
   ]
  },
  {
   "cell_type": "markdown",
   "id": "c64b4ef3",
   "metadata": {},
   "source": [
    "### Assigning water_liquid to fluid domain"
   ]
  },
  {
   "cell_type": "code",
   "execution_count": null,
   "id": "7b11c3ee",
   "metadata": {},
   "outputs": [],
   "source": [
    "solver.setup.cell_zone_conditions.fluid['fluid'] = {\"material\" : \"water-liquid\"}"
   ]
  },
  {
   "cell_type": "markdown",
   "id": "9f893c08",
   "metadata": {},
   "source": [
    "### Assigning boudary conditons"
   ]
  },
  {
   "cell_type": "code",
   "execution_count": null,
   "id": "c77950d0",
   "metadata": {},
   "outputs": [],
   "source": [
    "solver.setup.boundary_conditions.velocity_inlet['velocity-inlet-1'].vmag = 1.\n",
    "solver.setup.boundary_conditions.velocity_inlet['velocity-inlet-2'].vmag = 1."
   ]
  },
  {
   "cell_type": "markdown",
   "id": "a2d319e7",
   "metadata": {},
   "source": [
    "### Hybrid Initialization"
   ]
  },
  {
   "cell_type": "code",
   "execution_count": null,
   "id": "fcd27b09",
   "metadata": {},
   "outputs": [],
   "source": [
    "solver.solution.initialization.hybrid_initialize()"
   ]
  },
  {
   "cell_type": "markdown",
   "id": "06244637",
   "metadata": {},
   "source": [
    "### Setting 20 iterations"
   ]
  },
  {
   "cell_type": "code",
   "execution_count": null,
   "id": "61157309",
   "metadata": {},
   "outputs": [],
   "source": [
    "solver.solution.run_calculation.iterate(iter_count = 20)"
   ]
  },
  {
   "cell_type": "markdown",
   "id": "b8256bbf",
   "metadata": {},
   "source": [
    "### Exiting solver"
   ]
  },
  {
   "cell_type": "code",
   "execution_count": null,
   "id": "81e62170",
   "metadata": {},
   "outputs": [],
   "source": [
    "solver.exit()"
   ]
  }
 ],
 "metadata": {
  "kernelspec": {
   "display_name": "Python 3 (ipykernel)",
   "language": "python",
   "name": "python3"
  },
  "language_info": {
   "codemirror_mode": {
    "name": "ipython",
    "version": 3
   },
   "file_extension": ".py",
   "mimetype": "text/x-python",
   "name": "python",
   "nbconvert_exporter": "python",
   "pygments_lexer": "ipython3",
   "version": "3.10.7"
  }
 },
 "nbformat": 4,
 "nbformat_minor": 5
}
