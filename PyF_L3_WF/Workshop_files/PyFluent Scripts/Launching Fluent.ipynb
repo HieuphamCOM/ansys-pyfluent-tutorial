{
 "cells": [
  {
   "cell_type": "code",
   "execution_count": 1,
   "id": "5c819a8e",
   "metadata": {},
   "outputs": [],
   "source": [
    "import ansys.fluent.core as pyfluent"
   ]
  },
  {
   "cell_type": "code",
   "execution_count": 3,
   "id": "6d491ea0",
   "metadata": {},
   "outputs": [],
   "source": [
    "session  = pyfluent.launch_fluent()"
   ]
  },
  {
   "cell_type": "code",
   "execution_count": 6,
   "id": "12c2b6a7",
   "metadata": {},
   "outputs": [],
   "source": [
    "session.exit()"
   ]
  },
  {
   "cell_type": "code",
   "execution_count": 7,
   "id": "23387df1",
   "metadata": {},
   "outputs": [],
   "source": [
    "session  = pyfluent.launch_fluent(show_gui = True)"
   ]
  },
  {
   "cell_type": "code",
   "execution_count": 8,
   "id": "7a9f6209",
   "metadata": {},
   "outputs": [],
   "source": [
    "session.exit()"
   ]
  },
  {
   "cell_type": "code",
   "execution_count": 11,
   "id": "3bd3df4b",
   "metadata": {},
   "outputs": [],
   "source": [
    "session  = pyfluent.launch_fluent(show_gui = True , mode = 'meshing')"
   ]
  },
  {
   "cell_type": "code",
   "execution_count": 10,
   "id": "b059e0dc",
   "metadata": {},
   "outputs": [],
   "source": [
    "session.exit()"
   ]
  },
  {
   "cell_type": "code",
   "execution_count": 12,
   "id": "11c2a557",
   "metadata": {},
   "outputs": [],
   "source": [
    "session  = pyfluent.launch_fluent(show_gui = True, precision = \"double\", processor_count = 2)"
   ]
  },
  {
   "cell_type": "code",
   "execution_count": null,
   "id": "4746ac71",
   "metadata": {},
   "outputs": [],
   "source": [
    "session.exit()"
   ]
  }
 ],
 "metadata": {
  "kernelspec": {
   "display_name": "Python 3 (ipykernel)",
   "language": "python",
   "name": "python3"
  },
  "language_info": {
   "codemirror_mode": {
    "name": "ipython",
    "version": 3
   },
   "file_extension": ".py",
   "mimetype": "text/x-python",
   "name": "python",
   "nbconvert_exporter": "python",
   "pygments_lexer": "ipython3",
   "version": "3.10.7"
  }
 },
 "nbformat": 4,
 "nbformat_minor": 5
}
