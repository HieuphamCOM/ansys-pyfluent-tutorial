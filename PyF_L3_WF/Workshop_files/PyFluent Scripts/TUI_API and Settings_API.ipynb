{
 "cells": [
  {
   "cell_type": "markdown",
   "id": "a95a0d50",
   "metadata": {},
   "source": [
    "## Importing packages"
   ]
  },
  {
   "cell_type": "code",
   "execution_count": null,
   "id": "fd9f053e",
   "metadata": {},
   "outputs": [],
   "source": [
    "import ansys.fluent.core as pyfluent"
   ]
  },
  {
   "cell_type": "markdown",
   "id": "91b02cea",
   "metadata": {},
   "source": [
    "## Launching Fluent in solution mode "
   ]
  },
  {
   "cell_type": "code",
   "execution_count": null,
   "id": "04560abd",
   "metadata": {},
   "outputs": [],
   "source": [
    "solver = pyfluent.launch_fluent(precision=\"double\", processor_count=8, mode=\"solver\", show_gui=True)"
   ]
  },
  {
   "cell_type": "markdown",
   "id": "b4ed8e43",
   "metadata": {},
   "source": [
    "## Reading a mesh file"
   ]
  },
  {
   "cell_type": "code",
   "execution_count": null,
   "id": "da50904f",
   "metadata": {},
   "outputs": [],
   "source": [
    "solver.file.read_mesh(file_name = \"Static Mixer.msh.h5\")"
   ]
  },
  {
   "cell_type": "markdown",
   "id": "2da13dc7",
   "metadata": {},
   "source": [
    "## TUI approach to change units \n",
    "TUI console command = /define/units length mm "
   ]
  },
  {
   "cell_type": "code",
   "execution_count": null,
   "id": "beb6e330",
   "metadata": {},
   "outputs": [],
   "source": [
    "solver.tui.define.units(\"length\", \"mm\")"
   ]
  },
  {
   "cell_type": "markdown",
   "id": "a075833f",
   "metadata": {},
   "source": [
    "## Settings API approach to set Viscous model"
   ]
  },
  {
   "cell_type": "code",
   "execution_count": null,
   "id": "4e39374c",
   "metadata": {},
   "outputs": [],
   "source": [
    "solver.setup.models.viscous.model = 'k-epsilon'"
   ]
  },
  {
   "cell_type": "markdown",
   "id": "40bd8533",
   "metadata": {},
   "source": [
    "## TUI API approach to set Viscous model\n",
    "TUI console command = models/viscous/kw-sst? yes"
   ]
  },
  {
   "cell_type": "code",
   "execution_count": null,
   "id": "016048d6",
   "metadata": {},
   "outputs": [],
   "source": [
    "solver.tui.define.models.viscous.kw_sst('yes')"
   ]
  },
  {
   "cell_type": "markdown",
   "id": "23f23213",
   "metadata": {},
   "source": [
    "## ## Setting API approach to change velocity magnitude "
   ]
  },
  {
   "cell_type": "code",
   "execution_count": null,
   "id": "c48bbd6f",
   "metadata": {},
   "outputs": [],
   "source": [
    "solver.setup.boundary_conditions.velocity_inlet['velocity-inlet-1'].vmag = 2"
   ]
  },
  {
   "cell_type": "markdown",
   "id": "0496487b",
   "metadata": {},
   "source": [
    "## ## TUI approach to change velocity magnitude \n",
    "TUI console commands = /define/boundary-conditions/set/velocity-inlet velocity-inlet-2 velocity-inlet-2 () vmag no 2 quit "
   ]
  },
  {
   "cell_type": "code",
   "execution_count": null,
   "id": "46a22458",
   "metadata": {},
   "outputs": [],
   "source": [
    "solver.tui.define.boundary_conditions.set.velocity_inlet(\"velocity-inlet-2\", \"velocity-inlet-2\", (), \"vmag\", \"no\", 2, \"quit\")"
   ]
  }
 ],
 "metadata": {
  "kernelspec": {
   "display_name": "Python 3 (ipykernel)",
   "language": "python",
   "name": "python3"
  },
  "language_info": {
   "codemirror_mode": {
    "name": "ipython",
    "version": 3
   },
   "file_extension": ".py",
   "mimetype": "text/x-python",
   "name": "python",
   "nbconvert_exporter": "python",
   "pygments_lexer": "ipython3",
   "version": "3.10.7"
  }
 },
 "nbformat": 4,
 "nbformat_minor": 5
}
