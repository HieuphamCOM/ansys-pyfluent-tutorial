{
 "cells": [
  {
   "cell_type": "code",
   "execution_count": 1,
   "id": "13518ab1-c8a9-42c5-9864-c66640246192",
   "metadata": {},
   "outputs": [],
   "source": [
    "import ansys.fluent.core as pyfluent"
   ]
  },
  {
   "cell_type": "code",
   "execution_count": 2,
   "id": "8a229150-21d2-4e5e-9c73-45175c3e585b",
   "metadata": {},
   "outputs": [],
   "source": [
    "session = pyfluent.launch_fluent()"
   ]
  },
  {
   "cell_type": "code",
   "execution_count": 3,
   "id": "dde9031a-362d-44dc-a716-a4afb5c0c503",
   "metadata": {},
   "outputs": [],
   "source": [
    "session.exit()"
   ]
  },
  {
   "cell_type": "code",
   "execution_count": null,
   "id": "c0d08562-56a1-461d-8d75-6c683eccd754",
   "metadata": {},
   "outputs": [],
   "source": []
  }
 ],
 "metadata": {
  "kernelspec": {
   "display_name": "Python 3 (ipykernel)",
   "language": "python",
   "name": "python3"
  },
  "language_info": {
   "codemirror_mode": {
    "name": "ipython",
    "version": 3
   },
   "file_extension": ".py",
   "mimetype": "text/x-python",
   "name": "python",
   "nbconvert_exporter": "python",
   "pygments_lexer": "ipython3",
   "version": "3.11.5"
  }
 },
 "nbformat": 4,
 "nbformat_minor": 5
}
