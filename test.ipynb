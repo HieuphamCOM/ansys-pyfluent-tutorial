{
 "cells": [
  {
   "cell_type": "code",
   "execution_count": 124,
   "id": "ea612291-e7bb-4ce3-8489-552cce103587",
   "metadata": {},
   "outputs": [],
   "source": [
    "%matplotlib inline"
   ]
  },
  {
   "cell_type": "code",
   "execution_count": 125,
   "id": "d0d07cbe",
   "metadata": {},
   "outputs": [],
   "source": [
    "import ansys.fluent.core as pyfluent\n"
   ]
  },
  {
   "cell_type": "code",
   "execution_count": 126,
   "id": "9166e9c8",
   "metadata": {},
   "outputs": [],
   "source": [
    "solver = pyfluent.launch_fluent(precision=\"double\", processor_count=4, mode = \"solver\", show_gui = True)"
   ]
  },
  {
   "cell_type": "code",
   "execution_count": 127,
   "id": "bddee4a4",
   "metadata": {},
   "outputs": [
    {
     "data": {
      "text/plain": [
       "['file_type', 'file_name', 'pdf_file_name', 'lightweight_setup']"
      ]
     },
     "execution_count": 127,
     "metadata": {},
     "output_type": "execute_result"
    }
   ],
   "source": [
    "solver.file.read_mesh.argument_names"
   ]
  },
  {
   "cell_type": "code",
   "execution_count": 128,
   "id": "440f81e2",
   "metadata": {},
   "outputs": [
    {
     "data": {
      "text/plain": [
       "True"
      ]
     },
     "execution_count": 128,
     "metadata": {},
     "output_type": "execute_result"
    }
   ],
   "source": [
    "solver.file.read_mesh(file_name = \"C:/Users/hieup/Documents/my-repo-gihub/ansys-pyfluent-tutorial/PyF_L3_WF/Workshop_files/Input_files/Static Mixer.msh.h5\")"
   ]
  },
  {
   "cell_type": "code",
   "execution_count": 129,
   "id": "14e25e05-d567-4bbf-82c3-9daf8e779519",
   "metadata": {},
   "outputs": [
    {
     "data": {
      "text/plain": [
       "'*the-non-printing-object*'"
      ]
     },
     "execution_count": 129,
     "metadata": {},
     "output_type": "execute_result"
    }
   ],
   "source": [
    " solver.mesh.check()"
   ]
  },
  {
   "cell_type": "code",
   "execution_count": 130,
   "id": "63796ffa-926c-405a-b458-44d3444ece97",
   "metadata": {},
   "outputs": [
    {
     "data": {
      "text/plain": [
       "{'enabled': False}"
      ]
     },
     "execution_count": 130,
     "metadata": {},
     "output_type": "execute_result"
    }
   ],
   "source": [
    "solver.setup.models.energy()"
   ]
  },
  {
   "cell_type": "code",
   "execution_count": 131,
   "id": "88c29d88-fd4d-4f2d-96e5-8d405981cfaf",
   "metadata": {},
   "outputs": [],
   "source": [
    "solver.setup.models.energy.enabled = True"
   ]
  },
  {
   "cell_type": "code",
   "execution_count": 132,
   "id": "7c4864ef-2df4-4c69-8e70-5ec1c5eb237b",
   "metadata": {},
   "outputs": [
    {
     "data": {
      "text/plain": [
       "{'model': 'k-omega',\n",
       " 'options': {'viscous_heating': False,\n",
       "  'curvature_correction': False,\n",
       "  'corner_flow_correction': False,\n",
       "  'production_kato_launder': False},\n",
       " 'k_omega_model': 'sst',\n",
       " 'k_omega_options': {'kw_low_re_correction': False},\n",
       " 'near_wall_treatment': {'wall_omega_treatment': 'correlation'},\n",
       " 'transition_module': 'none',\n",
       " 'turbulence_expert': {'kato_launder_model': False,\n",
       "  'production_limiter': {'enable_prod_limiter': True, 'clip_factor': 10.0},\n",
       "  'turb_non_newtonian': False,\n",
       "  'thermal_p_function': True,\n",
       "  'restore_sst_v61': False},\n",
       " 'user_defined': {'turb_visc_func': 'none',\n",
       "  'energy_prandtl': 'none',\n",
       "  'wall_prandtl': 'none'}}"
      ]
     },
     "execution_count": 132,
     "metadata": {},
     "output_type": "execute_result"
    }
   ],
   "source": [
    "solver.setup.models.viscous()"
   ]
  },
  {
   "cell_type": "code",
   "execution_count": 133,
   "id": "78ca1958-0752-468f-8d15-1c098f1e83c8",
   "metadata": {},
   "outputs": [
    {
     "data": {
      "text/plain": [
       "{'database': {'database_type': 'fluent-database'},\n",
       " 'fluid': {'air': {'name': 'air',\n",
       "   'chemical_formula': '',\n",
       "   'density': {'option': 'constant', 'value': 1.225},\n",
       "   'viscosity': {'option': 'constant', 'value': 1.7894e-05},\n",
       "   'specific_heat': {'option': 'constant', 'value': 1006.43},\n",
       "   'thermal_conductivity': {'option': 'constant', 'value': 0.0242},\n",
       "   'molecular_weight': {'option': 'constant', 'value': 28.966},\n",
       "   'therm_exp_coeff': {'option': 'constant', 'value': 0},\n",
       "   'speed_of_sound': {'option': 'none'}}},\n",
       " 'solid': {'aluminum': {'name': 'aluminum',\n",
       "   'chemical_formula': 'al',\n",
       "   'density': {'option': 'constant', 'value': 2719},\n",
       "   'specific_heat': {'option': 'constant', 'value': 871},\n",
       "   'thermal_conductivity': {'option': 'constant', 'value': 202.4}}}}"
      ]
     },
     "execution_count": 133,
     "metadata": {},
     "output_type": "execute_result"
    }
   ],
   "source": [
    "solver.setup.materials()"
   ]
  },
  {
   "cell_type": "code",
   "execution_count": 134,
   "id": "6db0ad47-be9a-429d-b8f2-3acd3615d5fd",
   "metadata": {},
   "outputs": [
    {
     "data": {
      "text/plain": [
       "'*the-non-printing-object*'"
      ]
     },
     "execution_count": 134,
     "metadata": {},
     "output_type": "execute_result"
    }
   ],
   "source": [
    "solver.setup.materials.database.list_materials()"
   ]
  },
  {
   "cell_type": "code",
   "execution_count": 135,
   "id": "d1e16cf6-adaa-4c49-80aa-3868d0d9a2f4",
   "metadata": {},
   "outputs": [
    {
     "data": {
      "text/plain": [
       "['type', 'name']"
      ]
     },
     "execution_count": 135,
     "metadata": {},
     "output_type": "execute_result"
    }
   ],
   "source": [
    "solver.setup.materials.database.copy_by_name.argument_names"
   ]
  },
  {
   "cell_type": "code",
   "execution_count": 136,
   "id": "be83bf11-9906-4930-92d0-44654440a45b",
   "metadata": {},
   "outputs": [
    {
     "data": {
      "text/plain": [
       "3181211040"
      ]
     },
     "execution_count": 136,
     "metadata": {},
     "output_type": "execute_result"
    }
   ],
   "source": [
    "solver.setup.materials.database.copy_by_name(type='fluid', name = 'water-liquid')"
   ]
  },
  {
   "cell_type": "code",
   "execution_count": 137,
   "id": "9ca81f27-59f9-4cc4-a5c7-dfdf5916ccd3",
   "metadata": {},
   "outputs": [
    {
     "data": {
      "text/plain": [
       "'*the-non-printing-object*'"
      ]
     },
     "execution_count": 137,
     "metadata": {},
     "output_type": "execute_result"
    }
   ],
   "source": [
    "solver.setup.materials.list_materials()"
   ]
  },
  {
   "cell_type": "code",
   "execution_count": 138,
   "id": "25b1b140-d6db-4397-9567-c0f99418517b",
   "metadata": {},
   "outputs": [
    {
     "data": {
      "text/plain": [
       "{'fluid': {'name': 'fluid',\n",
       "  'material': 'air',\n",
       "  'sources': False,\n",
       "  'fixed': False,\n",
       "  'mrf_motion': False,\n",
       "  'reference_frame_axis_origin': [{'option': 'value', 'value': 0.0},\n",
       "   {'option': 'value', 'value': 0.0},\n",
       "   {'option': 'value', 'value': 0.0}],\n",
       "  'reference_frame_axis_direction': [{'option': 'value', 'value': 0},\n",
       "   {'option': 'value', 'value': 0},\n",
       "   {'option': 'value', 'value': 1}],\n",
       "  'laminar': False,\n",
       "  'porous': False,\n",
       "  'fanzone': False}}"
      ]
     },
     "execution_count": 138,
     "metadata": {},
     "output_type": "execute_result"
    }
   ],
   "source": [
    "solver.setup.cell_zone_conditions.fluid()"
   ]
  },
  {
   "cell_type": "code",
   "execution_count": 139,
   "id": "ddc171ae-4417-40eb-ab30-7693a531b336",
   "metadata": {},
   "outputs": [],
   "source": [
    "solver.setup.cell_zone_conditions.fluid['fluid'].material = 'water-liquid'"
   ]
  },
  {
   "cell_type": "code",
   "execution_count": 140,
   "id": "c7c31848",
   "metadata": {},
   "outputs": [
    {
     "data": {
      "text/plain": [
       "{'fluid': {'name': 'fluid',\n",
       "  'material': 'water-liquid',\n",
       "  'sources': False,\n",
       "  'fixed': False,\n",
       "  'mrf_motion': False,\n",
       "  'reference_frame_axis_origin': [{'option': 'value', 'value': 0.0},\n",
       "   {'option': 'value', 'value': 0.0},\n",
       "   {'option': 'value', 'value': 0.0}],\n",
       "  'reference_frame_axis_direction': [{'option': 'value', 'value': 0},\n",
       "   {'option': 'value', 'value': 0},\n",
       "   {'option': 'value', 'value': 1}],\n",
       "  'laminar': False,\n",
       "  'porous': False,\n",
       "  'fanzone': False}}"
      ]
     },
     "execution_count": 140,
     "metadata": {},
     "output_type": "execute_result"
    }
   ],
   "source": [
    "solver.setup.cell_zone_conditions.fluid()"
   ]
  },
  {
   "cell_type": "code",
   "execution_count": 141,
   "id": "394a0093",
   "metadata": {},
   "outputs": [
    {
     "data": {
      "text/plain": [
       "{'velocity-inlet-1': {'name': 'velocity-inlet-1',\n",
       "  'velocity_spec': 'Magnitude, Normal to Boundary',\n",
       "  'frame_of_reference': 'Absolute',\n",
       "  'vmag': {'option': 'value', 'value': 0},\n",
       "  'initial_gauge_pressure': {'option': 'value', 'value': 0},\n",
       "  't': {'option': 'value', 'value': 300},\n",
       "  'ke_spec': 'Intensity and Viscosity Ratio',\n",
       "  'turb_intensity': 0.05,\n",
       "  'turb_viscosity_ratio': 10},\n",
       " 'velocity-inlet-2': {'name': 'velocity-inlet-2',\n",
       "  'velocity_spec': 'Magnitude, Normal to Boundary',\n",
       "  'frame_of_reference': 'Absolute',\n",
       "  'vmag': {'option': 'value', 'value': 0},\n",
       "  'initial_gauge_pressure': {'option': 'value', 'value': 0},\n",
       "  't': {'option': 'value', 'value': 300},\n",
       "  'ke_spec': 'Intensity and Viscosity Ratio',\n",
       "  'turb_intensity': 0.05,\n",
       "  'turb_viscosity_ratio': 10}}"
      ]
     },
     "execution_count": 141,
     "metadata": {},
     "output_type": "execute_result"
    }
   ],
   "source": [
    "solver.setup.boundary_conditions.velocity_inlet()"
   ]
  },
  {
   "cell_type": "code",
   "execution_count": 142,
   "id": "27656e7d",
   "metadata": {},
   "outputs": [],
   "source": [
    "solver.setup.boundary_conditions.velocity_inlet['velocity-inlet-1'](vmag = 1, t = 300)\n",
    "solver.setup.boundary_conditions.velocity_inlet['velocity-inlet-2'](vmag = 1, t = 350)"
   ]
  },
  {
   "cell_type": "code",
   "execution_count": 143,
   "id": "7d62aa25",
   "metadata": {},
   "outputs": [
    {
     "data": {
      "text/plain": [
       "{'velocity-inlet-1': {'name': 'velocity-inlet-1',\n",
       "  'velocity_spec': 'Magnitude, Normal to Boundary',\n",
       "  'frame_of_reference': 'Absolute',\n",
       "  'vmag': {'option': 'value', 'value': 1},\n",
       "  'initial_gauge_pressure': {'option': 'value', 'value': 0},\n",
       "  't': {'option': 'value', 'value': 300},\n",
       "  'ke_spec': 'Intensity and Viscosity Ratio',\n",
       "  'turb_intensity': 0.05,\n",
       "  'turb_viscosity_ratio': 10},\n",
       " 'velocity-inlet-2': {'name': 'velocity-inlet-2',\n",
       "  'velocity_spec': 'Magnitude, Normal to Boundary',\n",
       "  'frame_of_reference': 'Absolute',\n",
       "  'vmag': {'option': 'value', 'value': 1},\n",
       "  'initial_gauge_pressure': {'option': 'value', 'value': 0},\n",
       "  't': {'option': 'value', 'value': 350},\n",
       "  'ke_spec': 'Intensity and Viscosity Ratio',\n",
       "  'turb_intensity': 0.05,\n",
       "  'turb_viscosity_ratio': 10}}"
      ]
     },
     "execution_count": 143,
     "metadata": {},
     "output_type": "execute_result"
    }
   ],
   "source": [
    "solver.setup.boundary_conditions.velocity_inlet()"
   ]
  },
  {
   "cell_type": "code",
   "execution_count": 144,
   "id": "9c3e9555",
   "metadata": {},
   "outputs": [],
   "source": [
    "solver.solution.initialization.hybrid_initialize()"
   ]
  },
  {
   "cell_type": "code",
   "execution_count": 145,
   "id": "cac0a779",
   "metadata": {},
   "outputs": [],
   "source": [
    "solver.solution.run_calculation.iter_count = 600"
   ]
  },
  {
   "cell_type": "code",
   "execution_count": 146,
   "id": "5c22fe52",
   "metadata": {},
   "outputs": [
    {
     "name": "stderr",
     "output_type": "stream",
     "text": [
      "c:\\Users\\hieup\\AppData\\Local\\Programs\\Python\\Python311\\Lib\\site-packages\\ansys\\fluent\\core\\streaming_services\\monitor_streaming.py:179: FutureWarning: The behavior of array concatenation with empty entries is deprecated. In a future version, this will no longer exclude empty items when determining the result dtype. To retain the old behavior, exclude the empty entries before the concat operation.\n",
      "  df_data[\"df\"] = pd.concat([df, new_df])\n",
      "c:\\Users\\hieup\\AppData\\Local\\Programs\\Python\\Python311\\Lib\\site-packages\\ansys\\fluent\\core\\streaming_services\\monitor_streaming.py:179: FutureWarning: The behavior of DataFrame concatenation with empty or all-NA entries is deprecated. In a future version, this will no longer exclude empty or all-NA columns when determining the result dtypes. To retain the old behavior, exclude the relevant entries before the concat operation.\n",
      "  df_data[\"df\"] = pd.concat([df, new_df])\n"
     ]
    }
   ],
   "source": [
    "solver.solution.run_calculation.iterate()"
   ]
  },
  {
   "cell_type": "code",
   "execution_count": 147,
   "id": "15f7f5f3",
   "metadata": {},
   "outputs": [
    {
     "name": "stdout",
     "output_type": "stream",
     "text": [
      "\n",
      "contours : \n",
      "  auto_scale : True\n",
      "  clip_to_range : True\n",
      "  filled_contours : False\n",
      "  global_range : True\n",
      "  line_contours : False\n",
      "  log_scale : False\n",
      "  n_contour : 100\n",
      "  node_values : True\n",
      "  render_mesh : False\n",
      "  coloring : \n",
      "    banded_coloring : False\n",
      "particle_tracks : \n",
      "  display : True\n",
      "  history_filename : \n",
      "  report_default_variables : \n",
      "    0 : Particle X Position\n",
      "    1 : Particle Y Position\n",
      "    2 : Particle Z Position\n",
      "    3 : Particle X Velocity\n",
      "    4 : Particle Y Velocity\n",
      "    5 : Particle Z Velocity\n",
      "    6 : Particle Diameter\n",
      "    7 : Particle Temperature\n",
      "    8 : Particle Density\n",
      "    9 : Particle Mass\n",
      "    10 : Particle Number in Parcel\n",
      "    11 : Color by\n",
      "  track_single_particle_stream : True\n",
      "  arrow_scale : 1\n",
      "  arrow_space : 1\n",
      "  coarsen_factor : 1\n",
      "  line_width : 1\n",
      "colors : \n",
      "  color_by_type : False\n",
      "  foreground : foreground\n",
      "  by_type : \n",
      "    only_list_case_boundaries : True\n",
      "    use_inherent_material_color : True\n",
      "  by_surface : \n",
      "    use_inherent_material_color : True\n",
      "  skip_label : 9\n",
      "  automatic_skip : True\n",
      "lights : \n",
      "  ambient_color : \n",
      "    0 : 0.30000001192092896\n",
      "    1 : 0.30000001192092896\n",
      "    2 : 0.30000001192092896\n",
      "  headlight_setting : yes\n",
      "  lights_on : True\n",
      "  lighting_interpolation : Automatic\n",
      "picture : \n",
      "  raytracer_image : False\n",
      "  color_mode : color\n",
      "  driver_options : \n",
      "    hardcopy_format : png\n",
      "    post_format : rle-raster\n",
      "  invert_background : True\n",
      "  landscape : True\n",
      "  x_resolution : 960\n",
      "  y_resolution : 720\n",
      "  use_window_resolution : True\n",
      "views : \n",
      "windows : \n",
      "  axes : \n",
      "    border : False\n",
      "    bottom : -0.95\n",
      "    clear : True\n",
      "    right : 0.95\n",
      "    visible : True\n",
      "  main : \n",
      "    border : False\n",
      "    bottom : -1.0\n",
      "    left : -1.0\n",
      "    right : 1.0\n",
      "    top : 1.0\n",
      "    visible : True\n",
      "  scale : \n",
      "    border : False\n",
      "    bottom : -1.0\n",
      "    clear : True\n",
      "    format : %0.2e\n",
      "    font_size : 0.023\n",
      "    left : -1.0\n",
      "    margin : 0.1\n",
      "    right : -0.7\n",
      "    top : 1.0\n",
      "    visible : True\n",
      "  text : \n",
      "    application : True\n",
      "    border : True\n",
      "    bottom : -1.0\n",
      "    clear : True\n",
      "    company : True\n",
      "    date : True\n",
      "    left : -1.0\n",
      "    right : 1.0\n",
      "    top : -0.75\n",
      "    visible : False\n",
      "    alignment : left\n",
      "  video : \n",
      "    background : 0.0,0.0,0.0\n",
      "    color_filter : video=ntsc,sat=.6,gain=.7\n",
      "    foreground : 1.0,1.0,1.0\n",
      "    on : False\n",
      "    pixel_size : \n",
      "      width : 640\n",
      "      height : 480\n",
      "      margin : 90\n",
      "  xy : \n",
      "    border : False\n",
      "    bottom : -1\n",
      "    left : -1.0\n",
      "    right : 1.0\n",
      "    top : 1.0\n",
      "    visible : True\n",
      "  ruler : False\n",
      "  logo_color : black\n",
      "raytracing_options : \n",
      "  background : \n",
      "    hide_environment_keep_effects : False\n",
      "    environment_image : Alps Field Midday\n",
      "    latitude : 0\n",
      "    longitude : 0\n",
      "    view_zoom : 20\n",
      "    show_backplate : False\n",
      "    backplate_color : \n",
      "      0 : 162\n",
      "      1 : 166\n",
      "      2 : 186\n",
      "    backplate_image : None\n",
      "  rendering : \n",
      "    quality : medium\n",
      "    thread_count : 8\n",
      "    max_rendering_timeout : 10\n"
     ]
    }
   ],
   "source": [
    "solver.results.graphics.print_state()"
   ]
  },
  {
   "cell_type": "code",
   "execution_count": 150,
   "id": "93406178",
   "metadata": {},
   "outputs": [],
   "source": [
    "solver.results.graphics.contour()"
   ]
  },
  {
   "cell_type": "code",
   "execution_count": 149,
   "id": "7968e9d1",
   "metadata": {},
   "outputs": [
    {
     "ename": "KeyError",
     "evalue": "'velocity_contour is not an allowed Settings objects name.\\n'",
     "output_type": "error",
     "traceback": [
      "\u001b[1;31m---------------------------------------------------------------------------\u001b[0m",
      "\u001b[1;31mKeyError\u001b[0m                                  Traceback (most recent call last)",
      "\u001b[1;32mc:\\Users\\hieup\\Documents\\my-repo-gihub\\ansys-pyfluent-tutorial\\test.ipynb Cell 26\u001b[0m line \u001b[0;36m1\n\u001b[1;32m----> <a href='vscode-notebook-cell:/c%3A/Users/hieup/Documents/my-repo-gihub/ansys-pyfluent-tutorial/test.ipynb#X40sZmlsZQ%3D%3D?line=0'>1</a>\u001b[0m solver\u001b[39m.\u001b[39;49mresults\u001b[39m.\u001b[39;49mgraphics\u001b[39m.\u001b[39;49mcontour[\u001b[39m\"\u001b[39;49m\u001b[39mvelocity_contour\u001b[39;49m\u001b[39m\"\u001b[39;49m](field \u001b[39m=\u001b[39m \u001b[39m\"\u001b[39m\u001b[39mvelocity-magnitude\u001b[39m\u001b[39m\"\u001b[39m, surfaces_list \u001b[39m=\u001b[39m [\u001b[39m\"\u001b[39m\u001b[39mpressure-outlet\u001b[39m\u001b[39m\"\u001b[39m])\n",
      "File \u001b[1;32mc:\\Users\\hieup\\AppData\\Local\\Programs\\Python\\Python311\\Lib\\site-packages\\ansys\\fluent\\core\\solver\\flobject.py:815\u001b[0m, in \u001b[0;36mNamedObject.__getitem__\u001b[1;34m(self, name)\u001b[0m\n\u001b[0;32m    807\u001b[0m         child_cls \u001b[39m=\u001b[39m \u001b[39mself\u001b[39m\u001b[39m.\u001b[39m\u001b[39m__class__\u001b[39m\u001b[39m.\u001b[39mchild_object_type\n\u001b[0;32m    808\u001b[0m         \u001b[39mreturn\u001b[39;00m WildcardPath(\n\u001b[0;32m    809\u001b[0m             \u001b[39mself\u001b[39m\u001b[39m.\u001b[39mflproxy,\n\u001b[0;32m    810\u001b[0m             \u001b[39mself\u001b[39m\u001b[39m.\u001b[39mpath \u001b[39m+\u001b[39m \u001b[39m\"\u001b[39m\u001b[39m/\u001b[39m\u001b[39m\"\u001b[39m \u001b[39m+\u001b[39m name,\n\u001b[1;32m   (...)\u001b[0m\n\u001b[0;32m    813\u001b[0m             \u001b[39mself\u001b[39m,\n\u001b[0;32m    814\u001b[0m         )\n\u001b[1;32m--> 815\u001b[0m     \u001b[39mraise\u001b[39;00m \u001b[39mKeyError\u001b[39;00m(\n\u001b[0;32m    816\u001b[0m         allowed_name_error_message(\n\u001b[0;32m    817\u001b[0m             \u001b[39m\"\u001b[39m\u001b[39mSettings objects\u001b[39m\u001b[39m\"\u001b[39m, name, \u001b[39mself\u001b[39m\u001b[39m.\u001b[39mget_object_names()\n\u001b[0;32m    818\u001b[0m         )\n\u001b[0;32m    819\u001b[0m     )\n\u001b[0;32m    821\u001b[0m obj \u001b[39m=\u001b[39m \u001b[39mself\u001b[39m\u001b[39m.\u001b[39m_objects\u001b[39m.\u001b[39mget(name)\n\u001b[0;32m    822\u001b[0m \u001b[39mif\u001b[39;00m \u001b[39mnot\u001b[39;00m obj:\n",
      "\u001b[1;31mKeyError\u001b[0m: 'velocity_contour is not an allowed Settings objects name.\\n'"
     ]
    }
   ],
   "source": [
    "# solver.results.graphics.contour[\"velocity_contour\"](field = \"velocity-magnitude\", surfaces_list = [\"pressure-outlet\"])"
   ]
  },
  {
   "cell_type": "code",
   "execution_count": 151,
   "id": "8b705f5c",
   "metadata": {},
   "outputs": [
    {
     "ename": "KeyError",
     "evalue": "'velocity_contour is not an allowed Settings objects name.\\n'",
     "output_type": "error",
     "traceback": [
      "\u001b[1;31m---------------------------------------------------------------------------\u001b[0m",
      "\u001b[1;31mKeyError\u001b[0m                                  Traceback (most recent call last)",
      "\u001b[1;32mc:\\Users\\hieup\\Documents\\my-repo-gihub\\ansys-pyfluent-tutorial\\test.ipynb Cell 27\u001b[0m line \u001b[0;36m1\n\u001b[1;32m----> <a href='vscode-notebook-cell:/c%3A/Users/hieup/Documents/my-repo-gihub/ansys-pyfluent-tutorial/test.ipynb#X41sZmlsZQ%3D%3D?line=0'>1</a>\u001b[0m solver\u001b[39m.\u001b[39;49mresults\u001b[39m.\u001b[39;49mgraphics\u001b[39m.\u001b[39;49mcontour[\u001b[39m\"\u001b[39;49m\u001b[39mvelocity_contour\u001b[39;49m\u001b[39m\"\u001b[39;49m]\u001b[39m.\u001b[39mdisplay()\n",
      "File \u001b[1;32mc:\\Users\\hieup\\AppData\\Local\\Programs\\Python\\Python311\\Lib\\site-packages\\ansys\\fluent\\core\\solver\\flobject.py:815\u001b[0m, in \u001b[0;36mNamedObject.__getitem__\u001b[1;34m(self, name)\u001b[0m\n\u001b[0;32m    807\u001b[0m         child_cls \u001b[39m=\u001b[39m \u001b[39mself\u001b[39m\u001b[39m.\u001b[39m\u001b[39m__class__\u001b[39m\u001b[39m.\u001b[39mchild_object_type\n\u001b[0;32m    808\u001b[0m         \u001b[39mreturn\u001b[39;00m WildcardPath(\n\u001b[0;32m    809\u001b[0m             \u001b[39mself\u001b[39m\u001b[39m.\u001b[39mflproxy,\n\u001b[0;32m    810\u001b[0m             \u001b[39mself\u001b[39m\u001b[39m.\u001b[39mpath \u001b[39m+\u001b[39m \u001b[39m\"\u001b[39m\u001b[39m/\u001b[39m\u001b[39m\"\u001b[39m \u001b[39m+\u001b[39m name,\n\u001b[1;32m   (...)\u001b[0m\n\u001b[0;32m    813\u001b[0m             \u001b[39mself\u001b[39m,\n\u001b[0;32m    814\u001b[0m         )\n\u001b[1;32m--> 815\u001b[0m     \u001b[39mraise\u001b[39;00m \u001b[39mKeyError\u001b[39;00m(\n\u001b[0;32m    816\u001b[0m         allowed_name_error_message(\n\u001b[0;32m    817\u001b[0m             \u001b[39m\"\u001b[39m\u001b[39mSettings objects\u001b[39m\u001b[39m\"\u001b[39m, name, \u001b[39mself\u001b[39m\u001b[39m.\u001b[39mget_object_names()\n\u001b[0;32m    818\u001b[0m         )\n\u001b[0;32m    819\u001b[0m     )\n\u001b[0;32m    821\u001b[0m obj \u001b[39m=\u001b[39m \u001b[39mself\u001b[39m\u001b[39m.\u001b[39m_objects\u001b[39m.\u001b[39mget(name)\n\u001b[0;32m    822\u001b[0m \u001b[39mif\u001b[39;00m \u001b[39mnot\u001b[39;00m obj:\n",
      "\u001b[1;31mKeyError\u001b[0m: 'velocity_contour is not an allowed Settings objects name.\\n'"
     ]
    }
   ],
   "source": [
    "# solver.results.graphics.contour[\"velocity_contour\"].display()"
   ]
  },
  {
   "cell_type": "code",
   "execution_count": null,
   "id": "3f10a2dd",
   "metadata": {},
   "outputs": [],
   "source": [
    "solver.results.graphics.views.auto_scale()"
   ]
  },
  {
   "cell_type": "code",
   "execution_count": null,
   "id": "54b2caf4",
   "metadata": {},
   "outputs": [],
   "source": [
    "solver.results.graphics.picture.save_picture(file_name=\"velocity\")"
   ]
  },
  {
   "cell_type": "code",
   "execution_count": null,
   "id": "eb77c509",
   "metadata": {},
   "outputs": [],
   "source": [
    "from matplotlib import pyplot as plt\n",
    "from matplotlib import image\n",
    "plt.imshow(image.imread(\"velocity.png\"))"
   ]
  },
  {
   "cell_type": "code",
   "execution_count": null,
   "id": "bc2fcc95",
   "metadata": {},
   "outputs": [],
   "source": []
  },
  {
   "cell_type": "code",
   "execution_count": null,
   "id": "7d83b6c9",
   "metadata": {},
   "outputs": [],
   "source": []
  }
 ],
 "metadata": {
  "kernelspec": {
   "display_name": "Python 3 (ipykernel)",
   "language": "python",
   "name": "python3"
  },
  "language_info": {
   "codemirror_mode": {
    "name": "ipython",
    "version": 3
   },
   "file_extension": ".py",
   "mimetype": "text/x-python",
   "name": "python",
   "nbconvert_exporter": "python",
   "pygments_lexer": "ipython3",
   "version": "3.11.5"
  }
 },
 "nbformat": 4,
 "nbformat_minor": 5
}
